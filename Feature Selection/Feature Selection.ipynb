{
 "cells": [
  {
   "cell_type": "code",
   "execution_count": 14,
   "metadata": {},
   "outputs": [],
   "source": [
    "import pandas as pd\n",
    "from sklearn.model_selection import train_test_split\n",
    "from sklearn.feature_selection import SelectKBest, f_classif\n",
    "from sklearn.ensemble import RandomForestClassifier\n",
    "from sklearn.metrics import accuracy_score\n",
    "import seaborn as sns\n",
    "import matplotlib.pyplot as plt"
   ]
  },
  {
   "cell_type": "code",
   "execution_count": 3,
   "metadata": {},
   "outputs": [
    {
     "name": "stdout",
     "output_type": "stream",
     "text": [
      "Requirement already satisfied: scikit-learn in c:\\python311\\lib\\site-packages (1.4.0)Note: you may need to restart the kernel to use updated packages.\n",
      "\n",
      "Requirement already satisfied: numpy<2.0,>=1.19.5 in c:\\python311\\lib\\site-packages (from scikit-learn) (1.23.5)\n",
      "Requirement already satisfied: scipy>=1.6.0 in c:\\python311\\lib\\site-packages (from scikit-learn) (1.10.1)\n",
      "Requirement already satisfied: joblib>=1.2.0 in c:\\python311\\lib\\site-packages (from scikit-learn) (1.2.0)\n",
      "Requirement already satisfied: threadpoolctl>=2.0.0 in c:\\python311\\lib\\site-packages (from scikit-learn) (3.2.0)\n"
     ]
    }
   ],
   "source": [
    "%pip install scikit-learn"
   ]
  },
  {
   "cell_type": "code",
   "execution_count": 4,
   "metadata": {},
   "outputs": [],
   "source": [
    "df = pd.read_csv(r\"C:\\Users\\eissa\\dd\\Full_clustered_Data.csv\")"
   ]
  },
  {
   "cell_type": "code",
   "execution_count": 5,
   "metadata": {},
   "outputs": [
    {
     "data": {
      "text/html": [
       "<div>\n",
       "<style scoped>\n",
       "    .dataframe tbody tr th:only-of-type {\n",
       "        vertical-align: middle;\n",
       "    }\n",
       "\n",
       "    .dataframe tbody tr th {\n",
       "        vertical-align: top;\n",
       "    }\n",
       "\n",
       "    .dataframe thead th {\n",
       "        text-align: right;\n",
       "    }\n",
       "</style>\n",
       "<table border=\"1\" class=\"dataframe\">\n",
       "  <thead>\n",
       "    <tr style=\"text-align: right;\">\n",
       "      <th></th>\n",
       "      <th>patient_label</th>\n",
       "      <th>hip_knee_angle</th>\n",
       "      <th>knee_ankle_angle</th>\n",
       "      <th>hip_knee_angle_r</th>\n",
       "      <th>knee_ankle_angle_r</th>\n",
       "      <th>left_shoulder_elbow_angle</th>\n",
       "      <th>left_elbow_wrist_angle</th>\n",
       "      <th>right_shoulder_elbow_angle</th>\n",
       "      <th>right_elbow_wrist_angle</th>\n",
       "      <th>Target</th>\n",
       "    </tr>\n",
       "  </thead>\n",
       "  <tbody>\n",
       "    <tr>\n",
       "      <th>0</th>\n",
       "      <td>OAW01-bottom</td>\n",
       "      <td>100.617182</td>\n",
       "      <td>89.490668</td>\n",
       "      <td>79.066984</td>\n",
       "      <td>103.316816</td>\n",
       "      <td>84.065700</td>\n",
       "      <td>78.285235</td>\n",
       "      <td>112.684778</td>\n",
       "      <td>102.451913</td>\n",
       "      <td>0</td>\n",
       "    </tr>\n",
       "    <tr>\n",
       "      <th>1</th>\n",
       "      <td>OAW01-bottom</td>\n",
       "      <td>101.571657</td>\n",
       "      <td>91.298998</td>\n",
       "      <td>78.928803</td>\n",
       "      <td>110.164716</td>\n",
       "      <td>80.677259</td>\n",
       "      <td>82.082049</td>\n",
       "      <td>112.253828</td>\n",
       "      <td>102.499115</td>\n",
       "      <td>0</td>\n",
       "    </tr>\n",
       "    <tr>\n",
       "      <th>2</th>\n",
       "      <td>OAW01-bottom</td>\n",
       "      <td>101.903664</td>\n",
       "      <td>94.777712</td>\n",
       "      <td>77.878505</td>\n",
       "      <td>116.895911</td>\n",
       "      <td>79.217586</td>\n",
       "      <td>85.281872</td>\n",
       "      <td>111.248798</td>\n",
       "      <td>102.271423</td>\n",
       "      <td>0</td>\n",
       "    </tr>\n",
       "    <tr>\n",
       "      <th>3</th>\n",
       "      <td>OAW01-bottom</td>\n",
       "      <td>102.051940</td>\n",
       "      <td>97.171604</td>\n",
       "      <td>78.653020</td>\n",
       "      <td>115.105438</td>\n",
       "      <td>78.933753</td>\n",
       "      <td>86.116666</td>\n",
       "      <td>109.465157</td>\n",
       "      <td>101.082634</td>\n",
       "      <td>0</td>\n",
       "    </tr>\n",
       "    <tr>\n",
       "      <th>4</th>\n",
       "      <td>OAW01-bottom</td>\n",
       "      <td>102.586880</td>\n",
       "      <td>99.157460</td>\n",
       "      <td>80.071540</td>\n",
       "      <td>102.232837</td>\n",
       "      <td>78.902353</td>\n",
       "      <td>85.511526</td>\n",
       "      <td>108.892788</td>\n",
       "      <td>99.226450</td>\n",
       "      <td>0</td>\n",
       "    </tr>\n",
       "  </tbody>\n",
       "</table>\n",
       "</div>"
      ],
      "text/plain": [
       "  patient_label  hip_knee_angle  knee_ankle_angle  hip_knee_angle_r  \\\n",
       "0  OAW01-bottom      100.617182         89.490668         79.066984   \n",
       "1  OAW01-bottom      101.571657         91.298998         78.928803   \n",
       "2  OAW01-bottom      101.903664         94.777712         77.878505   \n",
       "3  OAW01-bottom      102.051940         97.171604         78.653020   \n",
       "4  OAW01-bottom      102.586880         99.157460         80.071540   \n",
       "\n",
       "   knee_ankle_angle_r  left_shoulder_elbow_angle  left_elbow_wrist_angle  \\\n",
       "0          103.316816                  84.065700               78.285235   \n",
       "1          110.164716                  80.677259               82.082049   \n",
       "2          116.895911                  79.217586               85.281872   \n",
       "3          115.105438                  78.933753               86.116666   \n",
       "4          102.232837                  78.902353               85.511526   \n",
       "\n",
       "   right_shoulder_elbow_angle  right_elbow_wrist_angle  Target  \n",
       "0                  112.684778               102.451913       0  \n",
       "1                  112.253828               102.499115       0  \n",
       "2                  111.248798               102.271423       0  \n",
       "3                  109.465157               101.082634       0  \n",
       "4                  108.892788                99.226450       0  "
      ]
     },
     "execution_count": 5,
     "metadata": {},
     "output_type": "execute_result"
    }
   ],
   "source": [
    "df.head()"
   ]
  },
  {
   "cell_type": "code",
   "execution_count": 13,
   "metadata": {},
   "outputs": [
    {
     "data": {
      "text/plain": [
       "Index(['patient_label', 'hip_knee_angle', 'knee_ankle_angle',\n",
       "       'hip_knee_angle_r', 'knee_ankle_angle_r', 'left_shoulder_elbow_angle',\n",
       "       'left_elbow_wrist_angle', 'right_shoulder_elbow_angle',\n",
       "       'right_elbow_wrist_angle', 'Target'],\n",
       "      dtype='object')"
      ]
     },
     "execution_count": 13,
     "metadata": {},
     "output_type": "execute_result"
    }
   ],
   "source": [
    "df.columns"
   ]
  },
  {
   "cell_type": "code",
   "execution_count": 6,
   "metadata": {},
   "outputs": [],
   "source": [
    "X = df.drop(['patient_label', 'Target'], axis=1)\n",
    "y = df['Target']"
   ]
  },
  {
   "cell_type": "code",
   "execution_count": 7,
   "metadata": {},
   "outputs": [],
   "source": [
    "# Split the data into training and testing sets\n",
    "X_train, X_test, y_train, y_test = train_test_split(X, y, test_size=0.2, random_state=42)"
   ]
  },
  {
   "cell_type": "code",
   "execution_count": 8,
   "metadata": {},
   "outputs": [],
   "source": [
    "# Feature selection using SelectKBest with ANOVA F-statistic\n",
    "selector = SelectKBest(f_classif, k=2)  # Select the top 2 features\n",
    "X_train_selected = selector.fit_transform(X_train, y_train)\n",
    "X_test_selected = selector.transform(X_test)"
   ]
  },
  {
   "cell_type": "code",
   "execution_count": 9,
   "metadata": {},
   "outputs": [],
   "source": [
    "# Get the selected feature indices\n",
    "selected_feature_indices = selector.get_support(indices=True)"
   ]
  },
  {
   "cell_type": "code",
   "execution_count": 10,
   "metadata": {},
   "outputs": [
    {
     "name": "stdout",
     "output_type": "stream",
     "text": [
      "Top 2 Selected Features: Index(['hip_knee_angle_r', 'right_shoulder_elbow_angle'], dtype='object')\n"
     ]
    }
   ],
   "source": [
    "# Print the names of the top 2 selected features\n",
    "selected_feature_names = X.columns[selected_feature_indices]\n",
    "print(\"Top 2 Selected Features:\", selected_feature_names)"
   ]
  },
  {
   "cell_type": "code",
   "execution_count": null,
   "metadata": {},
   "outputs": [],
   "source": []
  }
 ],
 "metadata": {
  "kernelspec": {
   "display_name": "Python 3",
   "language": "python",
   "name": "python3"
  },
  "language_info": {
   "codemirror_mode": {
    "name": "ipython",
    "version": 3
   },
   "file_extension": ".py",
   "mimetype": "text/x-python",
   "name": "python",
   "nbconvert_exporter": "python",
   "pygments_lexer": "ipython3",
   "version": "3.11.0"
  }
 },
 "nbformat": 4,
 "nbformat_minor": 2
}
